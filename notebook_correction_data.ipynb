{
 "cells": [
  {
   "cell_type": "code",
   "execution_count": 62,
   "metadata": {},
   "outputs": [],
   "source": [
    "import pandas as pd\n",
    "from pandas.plotting import scatter_matrix\n",
    "\n",
    "d={'Fautes':[6,5,12,6,11,10,14,6,10,8,8,4],'Longueur':[405,385,875,379,696,493,408,270,496,584,453,428]}\n",
    "\n",
    "df=pd.DataFrame(data=d)\n",
    "\n",
    "\n"
   ]
  },
  {
   "cell_type": "code",
   "execution_count": 63,
   "metadata": {},
   "outputs": [
    {
     "name": "stdout",
     "output_type": "stream",
     "text": [
      "    Fautes  Longueur\n",
      "0        6       405\n",
      "1        5       385\n",
      "2       12       875\n",
      "3        6       379\n",
      "4       11       696\n",
      "5       10       493\n",
      "6       14       408\n",
      "7        6       270\n",
      "8       10       496\n",
      "9        8       584\n",
      "10       8       453\n",
      "11       4       428\n"
     ]
    }
   ],
   "source": [
    "print(df)"
   ]
  },
  {
   "cell_type": "code",
   "execution_count": 64,
   "metadata": {},
   "outputs": [
    {
     "data": {
      "text/html": [
       "<div>\n",
       "<style scoped>\n",
       "    .dataframe tbody tr th:only-of-type {\n",
       "        vertical-align: middle;\n",
       "    }\n",
       "\n",
       "    .dataframe tbody tr th {\n",
       "        vertical-align: top;\n",
       "    }\n",
       "\n",
       "    .dataframe thead th {\n",
       "        text-align: right;\n",
       "    }\n",
       "</style>\n",
       "<table border=\"1\" class=\"dataframe\">\n",
       "  <thead>\n",
       "    <tr style=\"text-align: right;\">\n",
       "      <th></th>\n",
       "      <th>Fautes</th>\n",
       "      <th>Longueur</th>\n",
       "    </tr>\n",
       "  </thead>\n",
       "  <tbody>\n",
       "    <tr>\n",
       "      <th>Fautes</th>\n",
       "      <td>1.00000</td>\n",
       "      <td>0.55892</td>\n",
       "    </tr>\n",
       "    <tr>\n",
       "      <th>Longueur</th>\n",
       "      <td>0.55892</td>\n",
       "      <td>1.00000</td>\n",
       "    </tr>\n",
       "  </tbody>\n",
       "</table>\n",
       "</div>"
      ],
      "text/plain": [
       "           Fautes  Longueur\n",
       "Fautes    1.00000   0.55892\n",
       "Longueur  0.55892   1.00000"
      ]
     },
     "execution_count": 64,
     "metadata": {},
     "output_type": "execute_result"
    }
   ],
   "source": [
    "df.corr()"
   ]
  },
  {
   "cell_type": "code",
   "execution_count": 65,
   "metadata": {},
   "outputs": [
    {
     "data": {
      "text/html": [
       "<div>\n",
       "<style scoped>\n",
       "    .dataframe tbody tr th:only-of-type {\n",
       "        vertical-align: middle;\n",
       "    }\n",
       "\n",
       "    .dataframe tbody tr th {\n",
       "        vertical-align: top;\n",
       "    }\n",
       "\n",
       "    .dataframe thead th {\n",
       "        text-align: right;\n",
       "    }\n",
       "</style>\n",
       "<table border=\"1\" class=\"dataframe\">\n",
       "  <thead>\n",
       "    <tr style=\"text-align: right;\">\n",
       "      <th></th>\n",
       "      <th>Fautes</th>\n",
       "      <th>Longueur</th>\n",
       "    </tr>\n",
       "  </thead>\n",
       "  <tbody>\n",
       "    <tr>\n",
       "      <th>0</th>\n",
       "      <td>6</td>\n",
       "      <td>405</td>\n",
       "    </tr>\n",
       "    <tr>\n",
       "      <th>1</th>\n",
       "      <td>5</td>\n",
       "      <td>385</td>\n",
       "    </tr>\n",
       "    <tr>\n",
       "      <th>2</th>\n",
       "      <td>12</td>\n",
       "      <td>875</td>\n",
       "    </tr>\n",
       "    <tr>\n",
       "      <th>3</th>\n",
       "      <td>6</td>\n",
       "      <td>379</td>\n",
       "    </tr>\n",
       "    <tr>\n",
       "      <th>4</th>\n",
       "      <td>11</td>\n",
       "      <td>696</td>\n",
       "    </tr>\n",
       "  </tbody>\n",
       "</table>\n",
       "</div>"
      ],
      "text/plain": [
       "   Fautes  Longueur\n",
       "0       6       405\n",
       "1       5       385\n",
       "2      12       875\n",
       "3       6       379\n",
       "4      11       696"
      ]
     },
     "execution_count": 65,
     "metadata": {},
     "output_type": "execute_result"
    }
   ],
   "source": [
    "df.head()"
   ]
  },
  {
   "cell_type": "code",
   "execution_count": 66,
   "metadata": {},
   "outputs": [
    {
     "data": {
      "text/html": [
       "<div>\n",
       "<style scoped>\n",
       "    .dataframe tbody tr th:only-of-type {\n",
       "        vertical-align: middle;\n",
       "    }\n",
       "\n",
       "    .dataframe tbody tr th {\n",
       "        vertical-align: top;\n",
       "    }\n",
       "\n",
       "    .dataframe thead th {\n",
       "        text-align: right;\n",
       "    }\n",
       "</style>\n",
       "<table border=\"1\" class=\"dataframe\">\n",
       "  <thead>\n",
       "    <tr style=\"text-align: right;\">\n",
       "      <th></th>\n",
       "      <th>Fautes</th>\n",
       "      <th>Longueur</th>\n",
       "    </tr>\n",
       "  </thead>\n",
       "  <tbody>\n",
       "    <tr>\n",
       "      <th>count</th>\n",
       "      <td>12.000000</td>\n",
       "      <td>12.000000</td>\n",
       "    </tr>\n",
       "    <tr>\n",
       "      <th>mean</th>\n",
       "      <td>8.333333</td>\n",
       "      <td>489.333333</td>\n",
       "    </tr>\n",
       "    <tr>\n",
       "      <th>std</th>\n",
       "      <td>3.084664</td>\n",
       "      <td>162.493263</td>\n",
       "    </tr>\n",
       "    <tr>\n",
       "      <th>min</th>\n",
       "      <td>4.000000</td>\n",
       "      <td>270.000000</td>\n",
       "    </tr>\n",
       "    <tr>\n",
       "      <th>25%</th>\n",
       "      <td>6.000000</td>\n",
       "      <td>400.000000</td>\n",
       "    </tr>\n",
       "    <tr>\n",
       "      <th>50%</th>\n",
       "      <td>8.000000</td>\n",
       "      <td>440.500000</td>\n",
       "    </tr>\n",
       "    <tr>\n",
       "      <th>75%</th>\n",
       "      <td>10.250000</td>\n",
       "      <td>518.000000</td>\n",
       "    </tr>\n",
       "    <tr>\n",
       "      <th>max</th>\n",
       "      <td>14.000000</td>\n",
       "      <td>875.000000</td>\n",
       "    </tr>\n",
       "  </tbody>\n",
       "</table>\n",
       "</div>"
      ],
      "text/plain": [
       "          Fautes    Longueur\n",
       "count  12.000000   12.000000\n",
       "mean    8.333333  489.333333\n",
       "std     3.084664  162.493263\n",
       "min     4.000000  270.000000\n",
       "25%     6.000000  400.000000\n",
       "50%     8.000000  440.500000\n",
       "75%    10.250000  518.000000\n",
       "max    14.000000  875.000000"
      ]
     },
     "execution_count": 66,
     "metadata": {},
     "output_type": "execute_result"
    }
   ],
   "source": [
    "df.describe()"
   ]
  },
  {
   "cell_type": "code",
   "execution_count": 67,
   "metadata": {},
   "outputs": [
    {
     "data": {
      "text/plain": [
       "array([[<AxesSubplot:xlabel='Fautes', ylabel='Fautes'>,\n",
       "        <AxesSubplot:xlabel='Longueur', ylabel='Fautes'>],\n",
       "       [<AxesSubplot:xlabel='Fautes', ylabel='Longueur'>,\n",
       "        <AxesSubplot:xlabel='Longueur', ylabel='Longueur'>]], dtype=object)"
      ]
     },
     "execution_count": 67,
     "metadata": {},
     "output_type": "execute_result"
    },
    {
     "data": {
      "image/png": "[encoded data removed]",
      "text/plain": [
       "<Figure size 432x288 with 4 Axes>"
      ]
     },
     "metadata": {
      "needs_background": "light"
     },
     "output_type": "display_data"
    }
   ],
   "source": [
    "scatter_matrix(df)"
   ]
  },
  {
   "cell_type": "code",
   "execution_count": 68,
   "metadata": {},
   "outputs": [],
   "source": [
    "# Importer le modèle kmeans clustering.\n",
    "from sklearn.cluster import KMeans\n",
    "# Initialiser le modèle avec 2 paramètres -- nombre de clusters et random state.\n",
    "kmeans_model = KMeans(n_clusters=5, random_state=1)\n",
    "# Seulement les colonnes numériques de games.\n",
    "good_columns = df\n",
    "# Adapter le modèle en utilisant les bonnes colonnes.\n",
    "kmeans_model.fit(good_columns)\n",
    "# Obtenir les labels des clusters.\n",
    "labels = kmeans_model.labels_"
   ]
  },
  {
   "cell_type": "code",
   "execution_count": 69,
   "metadata": {},
   "outputs": [
    {
     "data": {
      "image/png": "[encoded data removed]",
      "text/plain": [
       "<Figure size 432x288 with 1 Axes>"
      ]
     },
     "metadata": {
      "needs_background": "light"
     },
     "output_type": "display_data"
    }
   ],
   "source": [
    "# Importer le modèle PCA.\n",
    "from sklearn.decomposition import PCA\n",
    "# Créer un modèle PCA.\n",
    "pca_2 = PCA(2)\n",
    "# adapter le modèle PCA aux colonnes numériques précédentes.\n",
    "plot_columns = pca_2.fit_transform(good_columns)\n",
    "# Faire un graphique à nuage de points pour chaque données, à partir des clusters.\n",
    "plt.scatter(x=plot_columns[:,0], y=plot_columns[:,1], c=labels)\n",
    "# Afficher le graphique.\n",
    "plt.show()"
   ]
  },
  {
   "cell_type": "code",
   "execution_count": 84,
   "metadata": {},
   "outputs": [],
   "source": [
    "# Obtenir toutes les colonnes du DataFrame.\n",
    "columns = df.columns.tolist()\n",
    "# Filtrer les colonnes pour supprimer celles que nous ne voulons pas.\n",
    "columns = [c for c in columns if c in [\"Fautes\", \"Longueur\"]]\n",
    "# Stocker la variable que nous voulons prédire.\n",
    "target = \"Fautes\""
   ]
  },
  {
   "cell_type": "code",
   "execution_count": 85,
   "metadata": {},
   "outputs": [],
   "source": [
    "from sklearn.model_selection import train_test_split"
   ]
  },
  {
   "cell_type": "code",
   "execution_count": 86,
   "metadata": {},
   "outputs": [
    {
     "name": "stdout",
     "output_type": "stream",
     "text": [
      "(10, 2)\n",
      "(2, 2)\n"
     ]
    }
   ],
   "source": [
    "# Générer le set de training. Fixer random_state pour répliquer lé resultats ultérieurement.\n",
    "train = df.sample(frac=0.8, random_state=1)\n",
    "\n",
    "# Sélectionner tout ce qui n'est pas dans le set de training et le mettre dans le set de test.\n",
    "test = df.loc[~df.index.isin(train.index)]\n",
    "\n",
    "# Afficher les dimensions des 2 sets.\n",
    "print(train.shape)\n",
    "print(test.shape)"
   ]
  },
  {
   "cell_type": "code",
   "execution_count": 87,
   "metadata": {},
   "outputs": [
    {
     "data": {
      "text/plain": [
       "LinearRegression()"
      ]
     },
     "execution_count": 87,
     "metadata": {},
     "output_type": "execute_result"
    }
   ],
   "source": [
    "# Importer le modèle LinearRegression.\n",
    "from sklearn.linear_model import LinearRegression\n",
    "# Initialiser la classe du modèle.\n",
    "model = LinearRegression()\n",
    "# Adapter le modèle aux données d'entrainement the model to the training data.\n",
    "model.fit(train[columns], train[target])"
   ]
  },
  {
   "cell_type": "code",
   "execution_count": 89,
   "metadata": {},
   "outputs": [
    {
     "data": {
      "text/plain": [
       "0.0"
      ]
     },
     "execution_count": 89,
     "metadata": {},
     "output_type": "execute_result"
    }
   ],
   "source": [
    "# Importer la fonction de calcul d'erreur depuis scikit-learn.\n",
    "from sklearn.metrics import mean_squared_error\n",
    "# Générer des prédictions pour le set de test.\n",
    "predictions = model.predict(test[columns])\n",
    "# Calculer l'erreur entre nos prédictions et les valeurs réelles que nous connaissons.\n",
    "mean_squared_error(predictions, test[target])"
   ]
  },
  {
   "cell_type": "code",
   "execution_count": 92,
   "metadata": {},
   "outputs": [
    {
     "data": {
      "text/plain": [
       "3.759720999999993"
      ]
     },
     "execution_count": 92,
     "metadata": {},
     "output_type": "execute_result"
    }
   ],
   "source": [
    "# Importer le modèle random forest.\n",
    "from sklearn.ensemble import RandomForestRegressor\n",
    "# Initialiser le modèle avec certains paramètres.\n",
    "model = RandomForestRegressor(n_estimators=100, min_samples_leaf=10, random_state=1)\n",
    "# Adapter le modèle aux données.\n",
    "model.fit(train[columns], train[target])\n",
    "# Faire des prédictions.\n",
    "predictions = model.predict(test[columns])\n",
    "# Calculer l'erreur.\n",
    "mean_squared_error(predictions, test[target])\n",
    "\n"
   ]
  },
  {
   "cell_type": "code",
   "execution_count": 93,
   "metadata": {},
   "outputs": [
    {
     "name": "stdout",
     "output_type": "stream",
     "text": [
      "    Fautes  Longueur\n",
      "7        6       270\n",
      "3        6       379\n",
      "1        5       385\n",
      "0        6       405\n",
      "6       14       408\n",
      "11       4       428\n",
      "10       8       453\n",
      "5       10       493\n",
      "8       10       496\n",
      "9        8       584\n",
      "4       11       696\n",
      "2       12       875\n"
     ]
    }
   ],
   "source": [
    "print(df.sort_values(by=['Longueur']))"
   ]
  },
  {
   "cell_type": "code",
   "execution_count": 95,
   "metadata": {},
   "outputs": [
    {
     "name": "stdout",
     "output_type": "stream",
     "text": [
      "    Fautes  Longueur\n",
      "7        6       270\n",
      "3        6       379\n",
      "1        5       385\n",
      "0        6       405\n",
      "6       14       408\n",
      "11       4       428\n",
      "10       8       453\n",
      "5       10       493\n",
      "8       10       496\n",
      "9        8       584\n",
      "4       11       696\n",
      "2       12       875\n"
     ]
    }
   ],
   "source": [
    "df=df.sort_values(by=['Longueur'])\n",
    "print(df)"
   ]
  },
  {
   "cell_type": "code",
   "execution_count": 99,
   "metadata": {},
   "outputs": [
    {
     "data": {
      "text/plain": [
       "<AxesSubplot:xlabel='Longueur'>"
      ]
     },
     "execution_count": 99,
     "metadata": {},
     "output_type": "execute_result"
    },
    {
     "data": {
      "image/png": "[encoded data removed]",
      "text/plain": [
       "<Figure size 432x288 with 1 Axes>"
      ]
     },
     "metadata": {
      "needs_background": "light"
     },
     "output_type": "display_data"
    }
   ],
   "source": [
    "import matplotlib.pyplot as plt\n",
    "\n",
    "df.plot(x=\"Longueur\", y=\"Fautes\")"
   ]
  }
 ],
 "metadata": {
  "kernelspec": {
   "display_name": "Python 3",
   "language": "python",
   "name": "python3"
  },
  "language_info": {
   "codemirror_mode": {
    "name": "ipython",
    "version": 3
   },
   "file_extension": ".py",
   "mimetype": "text/x-python",
   "name": "python",
   "nbconvert_exporter": "python",
   "pygments_lexer": "ipython3",
   "version": "3.8.5"
  }
 },
 "nbformat": 4,
 "nbformat_minor": 4
}
